{
  "cells": [
    {
      "cell_type": "markdown",
      "id": "7f79baf9",
      "metadata": {
        "id": "7f79baf9"
      },
      "source": [
        "# ADS 509 Assignment 2.1: Tokenization, Normalization, Descriptive Statistics\n",
        "\n",
        "This notebook holds Assignment 2.1 for Module 2 in ADS 509, Applied Text Mining. Work through this notebook, writing code and answering questions where required.\n",
        "\n",
        "In the previous assignment you put together Twitter data and lyrics data on two artists. In this assignment we explore some of the textual features of those data sets. If, for some reason, you did not complete that previous assignment, data to use for this assignment can be found in the assignment materials section of Blackboard.\n",
        "\n",
        "This assignment asks you to write a short function to calculate some descriptive statistics on a piece of text. Then you are asked to find some interesting and unique statistics on your corpora.\n"
      ]
    },
    {
      "cell_type": "markdown",
      "id": "aae8e2e1",
      "metadata": {
        "id": "aae8e2e1"
      },
      "source": [
        "## General Assignment Instructions\n",
        "\n",
        "These instructions are included in every assignment, to remind you of the coding standards for the class. Feel free to delete this cell after reading it.\n",
        "\n",
        "One sign of mature code is conforming to a style guide. We recommend the [Google Python Style Guide](https://google.github.io/styleguide/pyguide.html). If you use a different style guide, please include a cell with a link.\n",
        "\n",
        "Your code should be relatively easy-to-read, sensibly commented, and clean. Writing code is a messy process, so please be sure to edit your final submission. Remove any cells that are not needed or parts of cells that contain unnecessary code. Remove inessential `import` statements and make sure that all such statements are moved into the designated cell.\n",
        "\n",
        "Make use of non-code cells for written commentary. These cells should be grammatical and clearly written. In some of these cells you will have questions to answer. The questions will be marked by a \"Q:\" and will have a corresponding \"A:\" spot for you. *Make sure to answer every question marked with a `Q:` for full credit.*\n"
      ]
    },
    {
      "cell_type": "code",
      "execution_count": null,
      "id": "e2d096b7",
      "metadata": {
        "colab": {
          "base_uri": "https://localhost:8080/"
        },
        "id": "e2d096b7",
        "outputId": "74fc82b0-6198-473f-97ef-7c86546370b4"
      },
      "outputs": [
        {
          "output_type": "stream",
          "name": "stderr",
          "text": [
            "[nltk_data] Downloading package stopwords to /root/nltk_data...\n",
            "[nltk_data]   Package stopwords is already up-to-date!\n"
          ]
        }
      ],
      "source": [
        "import os\n",
        "import re\n",
        "import emoji\n",
        "import pandas as pd\n",
        "import numpy as np\n",
        "\n",
        "from collections import Counter, defaultdict\n",
        "from nltk.corpus import stopwords\n",
        "from string import punctuation\n",
        "import nltk # Import nltk\n",
        "\n",
        "# Download the stopwords corpus if not already downloaded\n",
        "nltk.download('stopwords')\n",
        "\n",
        "sw = stopwords.words(\"english\")"
      ]
    },
    {
      "cell_type": "code",
      "execution_count": null,
      "id": "6b555ab2",
      "metadata": {
        "id": "6b555ab2"
      },
      "outputs": [],
      "source": [
        "# Add any additional import statements you need here\n",
        "\n"
      ]
    },
    {
      "cell_type": "code",
      "source": [
        "from google.colab import drive\n",
        "drive.mount('/content/drive')"
      ],
      "metadata": {
        "colab": {
          "base_uri": "https://localhost:8080/"
        },
        "id": "cY-qNj3EFfrT",
        "outputId": "0e638c11-ff0b-451d-da96-16066db1ff87"
      },
      "id": "cY-qNj3EFfrT",
      "execution_count": null,
      "outputs": [
        {
          "output_type": "stream",
          "name": "stdout",
          "text": [
            "Drive already mounted at /content/drive; to attempt to forcibly remount, call drive.mount(\"/content/drive\", force_remount=True).\n"
          ]
        }
      ]
    },
    {
      "cell_type": "code",
      "execution_count": null,
      "id": "923b5a86",
      "metadata": {
        "id": "923b5a86"
      },
      "outputs": [],
      "source": [
        "# change `data_location` to the location of the folder on your machine.\n",
        "# data_location = \"/users/chandler/dropbox/teaching/repos/ads-tm-api-scrape/\"\n",
        "\n",
        "# These subfolders should still work if you correctly stored the\n",
        "# data from the Module 1 assignment\n",
        "twitter_folder = \"/content/drive/MyDrive/Colab Notebooks/twitter\"\n",
        "lyrics_folder = \"/content/drive/MyDrive/Colab Notebooks/lyrics\""
      ]
    },
    {
      "cell_type": "code",
      "execution_count": null,
      "id": "06522af9",
      "metadata": {
        "id": "06522af9"
      },
      "outputs": [],
      "source": [
        "def descriptive_stats(tokens, num_tokens_to_show = 5, verbose=True) :\n",
        "    \"\"\"\n",
        "        Given a list of tokens, print number of tokens, number of unique tokens,\n",
        "        number of characters, lexical diversity (https://en.wikipedia.org/wiki/Lexical_diversity),\n",
        "        and num_tokens most common tokens. Return a list with the number of tokens, number\n",
        "        of unique tokens, lexical diversity, and number of characters.\n",
        "\n",
        "    \"\"\"\n",
        "\n",
        "    if not tokens:\n",
        "        if verbose:\n",
        "            print(\"Token list is empty.\")\n",
        "        return [0, 0, 0.0, 0]\n",
        "\n",
        "    num_tokens = len(tokens)\n",
        "    num_unique_tokens = len(set(tokens))\n",
        "    num_characters = sum(len(token) for token in tokens)\n",
        "    lexical_diversity = num_unique_tokens / num_tokens if num_tokens > 0 else 0.0\n",
        "\n",
        "    if verbose:\n",
        "        print(f\"There are {num_tokens} tokens in the data.\")\n",
        "        print(f\"There are {num_unique_tokens} unique tokens in the data.\")\n",
        "        print(f\"There are {num_characters} characters in the data.\")\n",
        "        print(f\"The lexical diversity is {lexical_diversity:.3f} in the data.\")\n",
        "        print(f\"\\nTop {num_tokens_to_show} most common tokens:\")\n",
        "        for token, count in Counter(tokens).most_common(num_tokens_to_show):\n",
        "            print(f\"{token}: {count}\")\n",
        "\n",
        "    return [num_tokens, num_unique_tokens, lexical_diversity, num_characters]\n"
      ]
    },
    {
      "cell_type": "code",
      "execution_count": null,
      "id": "59dcf058",
      "metadata": {
        "colab": {
          "base_uri": "https://localhost:8080/"
        },
        "id": "59dcf058",
        "outputId": "a508b75c-fd55-4c35-e194-6807e58b8dc2"
      },
      "outputs": [
        {
          "output_type": "stream",
          "name": "stdout",
          "text": [
            "There are 13 tokens in the data.\n",
            "There are 9 unique tokens in the data.\n",
            "There are 55 characters in the data.\n",
            "The lexical diversity is 0.692 in the data.\n"
          ]
        }
      ],
      "source": [
        "text = \"\"\"here is some example text with other example text here in this text\"\"\".split()\n",
        "assert(descriptive_stats(text, verbose=True)[0] == 13)\n",
        "assert(descriptive_stats(text, verbose=False)[1] == 9)\n",
        "assert(abs(descriptive_stats(text, verbose=False)[2] - 0.69) < 0.02)\n",
        "assert(descriptive_stats(text, verbose=False)[3] == 55)\n"
      ]
    },
    {
      "cell_type": "markdown",
      "id": "d2e7e1a2",
      "metadata": {
        "id": "d2e7e1a2"
      },
      "source": [
        "Q: Why is it beneficial to use assertion statements in your code?\n",
        "\n",
        "A: Assert statements are unit tests to verify the descriptive_stats() function works correctly. If any assertion fails, Python will raise an AssertionError, alerting that something is wrong with the function. It can help catch issues as we run the codes."
      ]
    },
    {
      "cell_type": "markdown",
      "id": "9d3bf93e",
      "metadata": {
        "id": "9d3bf93e"
      },
      "source": [
        "## Data Input\n",
        "\n",
        "Now read in each of the corpora. For the lyrics data, it may be convenient to store the entire contents of the file to make it easier to inspect the titles individually, as you'll do in the last part of the assignment. In the solution, I stored the lyrics data in a dictionary with two dimensions of keys: artist and song. The value was the file contents. A data frame would work equally well.\n",
        "\n",
        "For the Twitter data, we only need the description field for this assignment. Feel free all the descriptions read it into a data structure. In the solution, I stored the descriptions as a dictionary of lists, with the key being the artist.\n",
        "\n",
        "\n"
      ]
    },
    {
      "cell_type": "code",
      "execution_count": null,
      "id": "37d70801",
      "metadata": {
        "id": "37d70801"
      },
      "outputs": [],
      "source": [
        "# Read in the lyrics data\n",
        "\n",
        "lyrics_data = defaultdict(dict)\n",
        "\n",
        "for filename in os.listdir(lyrics_folder):\n",
        "    if filename.endswith(\".txt\"):\n",
        "        # Split at the first underscore to separate artist and song\n",
        "        parts = filename.split(\"_\", 1)\n",
        "        if len(parts) == 2:\n",
        "            artist, song_file = parts\n",
        "            file_path = os.path.join(lyrics_folder, filename)\n",
        "            with open(file_path, \"r\", encoding=\"utf-8\") as f:\n",
        "                lyrics_data[artist][song_file] = f.read()"
      ]
    },
    {
      "cell_type": "code",
      "execution_count": null,
      "id": "debcac5a",
      "metadata": {
        "id": "debcac5a"
      },
      "outputs": [],
      "source": [
        "# Read in the twitter data\n",
        "\n",
        "twitter_descriptions = defaultdict(list)\n",
        "\n",
        "for file in os.listdir(twitter_folder):\n",
        "    if file.endswith(\"_followers_data.txt\"):\n",
        "        artist = file.replace(\"_followers_data.txt\", \"\")\n",
        "        path = os.path.join(twitter_folder, file)\n",
        "        with open(path, \"r\", encoding=\"utf-8\") as f:\n",
        "            twitter_descriptions[artist] = [line.strip() for line in f if line.strip()]"
      ]
    },
    {
      "cell_type": "markdown",
      "id": "6a5f3b12",
      "metadata": {
        "id": "6a5f3b12"
      },
      "source": [
        "## Data Cleaning\n",
        "\n",
        "Now clean and tokenize your data. Remove punctuation chacters (available in the `punctuation` object in the `string` library), split on whitespace, fold to lowercase, and remove stopwords. Store your cleaned data, which must be accessible as an interable for `descriptive_stats`, in new objects or in new columns in your data frame.\n",
        "\n"
      ]
    },
    {
      "cell_type": "code",
      "execution_count": null,
      "id": "71c73d86",
      "metadata": {
        "id": "71c73d86"
      },
      "outputs": [],
      "source": [
        "punctuation = set(punctuation) # speeds up comparison\n",
        "\n",
        "def clean_tokenize(text, stopwords=sw):\n",
        "    text = text.lower()\n",
        "    text = ''.join(char for char in text if char not in punctuation)\n",
        "    tokens = text.split()\n",
        "    return [token for token in tokens if token not in stopwords]"
      ]
    },
    {
      "cell_type": "code",
      "execution_count": null,
      "id": "b327033a",
      "metadata": {
        "id": "b327033a"
      },
      "outputs": [],
      "source": [
        "# create your clean twitter data here\n",
        "\n",
        "cleaned_twitter = defaultdict(list)\n",
        "\n",
        "for artist, descriptions in twitter_descriptions.items():\n",
        "    for desc in descriptions:\n",
        "        tokens = clean_tokenize(desc)\n",
        "        cleaned_twitter[artist].append(tokens)"
      ]
    },
    {
      "cell_type": "code",
      "execution_count": null,
      "id": "e0f22e10",
      "metadata": {
        "id": "e0f22e10"
      },
      "outputs": [],
      "source": [
        "# create your clean lyrics data here\n",
        "\n",
        "cleaned_lyrics = defaultdict(dict)\n",
        "\n",
        "for artist, songs in lyrics_data.items():\n",
        "    for song, content in songs.items():\n",
        "        tokens = clean_tokenize(content)\n",
        "        cleaned_lyrics[artist][song] = tokens"
      ]
    },
    {
      "cell_type": "markdown",
      "id": "f2dd0179",
      "metadata": {
        "id": "f2dd0179"
      },
      "source": [
        "## Basic Descriptive Statistics\n",
        "\n",
        "Call your `descriptive_stats` function on both your lyrics data and your twitter data and for both artists (four total calls)."
      ]
    },
    {
      "cell_type": "code",
      "source": [
        "# Combine all tokens from all songs for each artist\n",
        "def get_all_lyrics_tokens(artist):\n",
        "    return [token for song in cleaned_lyrics[artist].values() for token in song]\n",
        "\n",
        "# Combine all tokens from all tweets for each artist\n",
        "def get_all_twitter_tokens(artist):\n",
        "    return [token for tweet in cleaned_twitter[artist] for token in tweet]"
      ],
      "metadata": {
        "id": "Jo92SL23Q4kq"
      },
      "id": "Jo92SL23Q4kq",
      "execution_count": null,
      "outputs": []
    },
    {
      "cell_type": "code",
      "execution_count": null,
      "id": "f0bbedd9",
      "metadata": {
        "colab": {
          "base_uri": "https://localhost:8080/"
        },
        "id": "f0bbedd9",
        "outputId": "3beee084-eff6-476d-a038-e58a319776ec"
      },
      "outputs": [
        {
          "output_type": "stream",
          "name": "stdout",
          "text": [
            "=== Cher Lyrics ===\n",
            "There are 35916 tokens in the data.\n",
            "There are 3703 unique tokens in the data.\n",
            "There are 172634 characters in the data.\n",
            "The lexical diversity is 0.103 in the data.\n",
            "\n",
            "Top 5 most common tokens:\n",
            "love: 1004\n",
            "im: 513\n",
            "know: 486\n",
            "dont: 440\n",
            "youre: 333\n",
            "\n",
            "=== Cher Twitter ===\n",
            "There are 42404149 tokens in the data.\n",
            "There are 10667110 unique tokens in the data.\n",
            "There are 266424726 characters in the data.\n",
            "The lexical diversity is 0.252 in the data.\n",
            "\n",
            "Top 5 most common tokens:\n",
            "0: 334292\n",
            "1: 284601\n",
            "2: 237886\n",
            "love: 221728\n",
            "3: 196690\n",
            "\n",
            "=== Robyn Lyrics ===\n",
            "There are 15227 tokens in the data.\n",
            "There are 2156 unique tokens in the data.\n",
            "There are 73787 characters in the data.\n",
            "The lexical diversity is 0.142 in the data.\n",
            "\n",
            "Top 5 most common tokens:\n",
            "know: 308\n",
            "dont: 301\n",
            "im: 299\n",
            "love: 275\n",
            "got: 251\n",
            "\n",
            "=== Robyn Twitter ===\n",
            "There are 3888265 tokens in the data.\n",
            "There are 1136751 unique tokens in the data.\n",
            "There are 24106279 characters in the data.\n",
            "The lexical diversity is 0.292 in the data.\n",
            "\n",
            "Top 5 most common tokens:\n",
            "0: 31800\n",
            "1: 24115\n",
            "2: 17675\n",
            "music: 16049\n",
            "3: 14372\n"
          ]
        },
        {
          "output_type": "execute_result",
          "data": {
            "text/plain": [
              "[3888265, 1136751, 0.29235430198301815, 24106279]"
            ]
          },
          "metadata": {},
          "execution_count": 16
        }
      ],
      "source": [
        "# calls to descriptive_stats here\n",
        "print(\"=== Cher Lyrics ===\")\n",
        "descriptive_stats(get_all_lyrics_tokens(\"cher\"))\n",
        "\n",
        "print(\"\\n=== Cher Twitter ===\")\n",
        "descriptive_stats(get_all_twitter_tokens(\"cher\"))\n",
        "\n",
        "print(\"\\n=== Robyn Lyrics ===\")\n",
        "descriptive_stats(get_all_lyrics_tokens(\"robyn\"))\n",
        "\n",
        "print(\"\\n=== Robyn Twitter ===\")\n",
        "descriptive_stats(get_all_twitter_tokens(\"robynkonichiwa\"))"
      ]
    },
    {
      "cell_type": "markdown",
      "id": "46294409",
      "metadata": {
        "id": "46294409"
      },
      "source": [
        "Q: How do you think the \"top 5 words\" would be different if we left stopwords in the data?\n",
        "\n",
        "A: If we leave out the stopwords in the dataset, the top 5 most common words would most likely be dominant by those stopwords.\n",
        "\n",
        "---\n",
        "\n",
        "Q: What were your prior beliefs about the lexical diversity between the artists? Does the difference (or lack thereof) in lexical diversity between the artists conform to your prior beliefs?\n",
        "\n",
        "A: Not much knowledge regarding these two artist. However, it does seems like Robyn has a higher lexical diversity than Cher in both Lyrics and Twitter. This might means that Robyn is more diverse. Although it is not a big difference.\n"
      ]
    },
    {
      "cell_type": "markdown",
      "id": "4d4e1ac1",
      "metadata": {
        "id": "4d4e1ac1"
      },
      "source": [
        "\n",
        "## Specialty Statistics\n",
        "\n",
        "The descriptive statistics we have calculated are quite generic. You will now calculate a handful of statistics tailored to these data.\n",
        "\n",
        "1. Ten most common emojis by artist in the twitter descriptions.\n",
        "1. Ten most common hashtags by artist in the twitter descriptions.\n",
        "1. Five most common words in song titles by artist.\n",
        "1. For each artist, a histogram of song lengths (in terms of number of tokens)\n",
        "\n",
        "We can use the `emoji` library to help us identify emojis and you have been given a function to help you.\n"
      ]
    },
    {
      "cell_type": "code",
      "execution_count": null,
      "id": "753a5a3e",
      "metadata": {
        "id": "753a5a3e"
      },
      "outputs": [],
      "source": [
        "assert(emoji.is_emoji(\"❤️\"))\n",
        "assert(not emoji.is_emoji(\":-)\"))"
      ]
    },
    {
      "cell_type": "markdown",
      "id": "986fc4c0",
      "metadata": {
        "id": "986fc4c0"
      },
      "source": [
        "### Emojis 😁\n",
        "\n",
        "What are the ten most common emojis by artist in the twitter descriptions?\n"
      ]
    },
    {
      "cell_type": "code",
      "execution_count": null,
      "id": "269cd433",
      "metadata": {
        "id": "269cd433"
      },
      "outputs": [],
      "source": [
        "# Helper function to extract emojis from text\n",
        "def extract_emojis(text):\n",
        "    return [char for char in text if emoji.is_emoji(char)]\n",
        "\n",
        "# Assuming twitter_descriptions dictionary is available\n",
        "emoji_counts = defaultdict(Counter)\n",
        "\n",
        "# Example structure simulation for demonstration\n",
        "# Replace this with your actual twitter_descriptions data if needed\n",
        "try:\n",
        "    twitter_descriptions  # Check if it exists\n",
        "except NameError:\n",
        "    twitter_descriptions = defaultdict(list)\n",
        "\n",
        "# Count emojis\n",
        "for artist, descriptions in twitter_descriptions.items():\n",
        "    for desc in descriptions:\n",
        "        emoji_counts[artist].update(extract_emojis(desc))\n",
        "\n",
        "# Get top 10 emojis per artist\n",
        "top_10_emojis_per_artist = {\n",
        "    artist: counter.most_common(10)\n",
        "    for artist, counter in emoji_counts.items()\n",
        "}\n"
      ]
    },
    {
      "cell_type": "code",
      "source": [
        "for artist, emoji_list in top_10_emojis_per_artist.items():\n",
        "    print(f\"\\nTop 10 emojis for {artist}:\")\n",
        "    for emj, count in emoji_list:\n",
        "        print(f\"{emj} : {count}\")\n"
      ],
      "metadata": {
        "colab": {
          "base_uri": "https://localhost:8080/"
        },
        "id": "oa13s2gbYf6T",
        "outputId": "1f68ad38-258e-421b-aed2-dd311a9a4f3c"
      },
      "id": "oa13s2gbYf6T",
      "execution_count": null,
      "outputs": [
        {
          "output_type": "stream",
          "name": "stdout",
          "text": [
            "\n",
            "Top 10 emojis for robynkonichiwa:\n",
            "🌈 : 6086\n",
            "❤ : 5635\n",
            "🏳 : 4641\n",
            "♥ : 4249\n",
            "✨ : 3217\n",
            "🏻 : 1751\n",
            "✌ : 1495\n",
            "♀ : 1347\n",
            "🏼 : 1340\n",
            "💙 : 1200\n",
            "\n",
            "Top 10 emojis for cher:\n",
            "❤ : 94506\n",
            "🌈 : 66291\n",
            "♥ : 48059\n",
            "🏳 : 47174\n",
            "✨ : 45846\n",
            "🌊 : 31234\n",
            "💙 : 31050\n",
            "🏻 : 25195\n",
            "✌ : 21963\n",
            "💜 : 21571\n"
          ]
        }
      ]
    },
    {
      "cell_type": "markdown",
      "id": "bab9b770",
      "metadata": {
        "id": "bab9b770"
      },
      "source": [
        "### Hashtags\n",
        "\n",
        "What are the ten most common hashtags by artist in the twitter descriptions?\n"
      ]
    },
    {
      "cell_type": "code",
      "execution_count": null,
      "id": "07c396f1",
      "metadata": {
        "id": "07c396f1"
      },
      "outputs": [],
      "source": [
        "# Count hashtags\n",
        "hashtag_counts = defaultdict(Counter)\n",
        "\n",
        "# Extract hashtags from twitter_descriptions\n",
        "for artist, descriptions in twitter_descriptions.items():\n",
        "    for desc in descriptions:\n",
        "        hashtags = [word.lower() for word in desc.split() if word.startswith(\"#\")]\n",
        "        hashtag_counts[artist].update(hashtags)\n",
        "\n",
        "# Get top 10 hashtags per artist\n",
        "top_10_hashtags_per_artist = {\n",
        "    artist: counter.most_common(10)\n",
        "    for artist, counter in hashtag_counts.items()\n",
        "}"
      ]
    },
    {
      "cell_type": "code",
      "source": [
        "for artist, counter in hashtag_counts.items():\n",
        "    print(f\"\\nTop 10 hashtags for {artist}:\")\n",
        "    for hashtag, count in counter.most_common(10):\n",
        "        print(f\"{hashtag}: {count}\")"
      ],
      "metadata": {
        "colab": {
          "base_uri": "https://localhost:8080/"
        },
        "id": "3FC2mJj3Y4Ix",
        "outputId": "611c2bcf-f099-4d86-8282-f19d9039d384"
      },
      "id": "3FC2mJj3Y4Ix",
      "execution_count": null,
      "outputs": [
        {
          "output_type": "stream",
          "name": "stdout",
          "text": [
            "\n",
            "Top 10 hashtags for robynkonichiwa:\n",
            "#blacklivesmatter: 601\n",
            "#blm: 365\n",
            "#music: 262\n",
            "#1: 213\n",
            "#: 175\n",
            "#teamfollowback: 118\n",
            "#edm: 104\n",
            "#resist: 77\n",
            "#freebritney: 70\n",
            "#blacktranslivesmatter: 58\n",
            "\n",
            "Top 10 hashtags for cher:\n",
            "#resist: 9729\n",
            "#blm: 9271\n",
            "#blacklivesmatter: 7770\n",
            "#fbr: 2991\n",
            "#theresistance: 2929\n",
            "#1: 2580\n",
            "#resistance: 2438\n",
            "#: 2205\n",
            "#voteblue: 1939\n",
            "#lgbtq: 1461\n"
          ]
        }
      ]
    },
    {
      "cell_type": "markdown",
      "id": "d10f21d5",
      "metadata": {
        "id": "d10f21d5"
      },
      "source": [
        "### Song Titles\n",
        "\n",
        "What are the five most common words in song titles by artist? The song titles should be on the first line of the lyrics pages, so if you have kept the raw file contents around, you will not need to re-read the data.\n"
      ]
    },
    {
      "cell_type": "code",
      "execution_count": null,
      "id": "bb69b36b",
      "metadata": {
        "id": "bb69b36b"
      },
      "outputs": [],
      "source": [
        "# Count title words per artist\n",
        "title_word_counts = defaultdict(Counter)\n",
        "\n",
        "# Extract the first line (title) from each lyrics file and count words\n",
        "for artist, songs in lyrics_data.items():\n",
        "    for song_file, content in songs.items():\n",
        "        first_line = content.strip().split('\\n')[0]\n",
        "        words = first_line.lower().split()\n",
        "        title_word_counts[artist].update(words)\n",
        "\n",
        "# Get top 5 most common words per artist\n",
        "top_5_title_words = {\n",
        "    artist: counter.most_common(5)\n",
        "    for artist, counter in title_word_counts.items()\n",
        "}"
      ]
    },
    {
      "cell_type": "code",
      "source": [
        "for artist, words in top_5_title_words.items():\n",
        "    print(f\"\\nTop 5 title words for {artist}:\")\n",
        "    for word, count in words:\n",
        "        print(f\"{word}: {count}\")"
      ],
      "metadata": {
        "colab": {
          "base_uri": "https://localhost:8080/"
        },
        "id": "bg4etZWSZGVv",
        "outputId": "0ae804d7-9809-4959-ef92-752586355cc6"
      },
      "id": "bg4etZWSZGVv",
      "execution_count": null,
      "outputs": [
        {
          "output_type": "stream",
          "name": "stdout",
          "text": [
            "\n",
            "Top 5 title words for cher:\n",
            "the: 29\n",
            "to: 28\n",
            "\"the: 24\n",
            "of: 21\n",
            "\"i: 21\n",
            "\n",
            "Top 5 title words for robyn:\n",
            "you: 7\n",
            "the: 7\n",
            "me: 7\n",
            "my: 6\n",
            "to: 6\n"
          ]
        }
      ]
    },
    {
      "cell_type": "markdown",
      "id": "5dd4fd71",
      "metadata": {
        "id": "5dd4fd71"
      },
      "source": [
        "### Song Lengths\n",
        "\n",
        "For each artist, a histogram of song lengths (in terms of number of tokens). If you put the song lengths in a data frame with an artist column, matplotlib will make the plotting quite easy. An example is given to help you out.\n"
      ]
    },
    {
      "cell_type": "code",
      "execution_count": null,
      "id": "805a1e52",
      "metadata": {
        "colab": {
          "base_uri": "https://localhost:8080/",
          "height": 591
        },
        "id": "805a1e52",
        "outputId": "046d479a-2997-445f-c8aa-e42dfa2e189d"
      },
      "outputs": [
        {
          "output_type": "execute_result",
          "data": {
            "text/plain": [
              "artist\n",
              "Artist 1    Axes(0.125,0.11;0.775x0.77)\n",
              "Artist 2    Axes(0.125,0.11;0.775x0.77)\n",
              "Name: length, dtype: object"
            ],
            "text/html": [
              "<div>\n",
              "<style scoped>\n",
              "    .dataframe tbody tr th:only-of-type {\n",
              "        vertical-align: middle;\n",
              "    }\n",
              "\n",
              "    .dataframe tbody tr th {\n",
              "        vertical-align: top;\n",
              "    }\n",
              "\n",
              "    .dataframe thead th {\n",
              "        text-align: right;\n",
              "    }\n",
              "</style>\n",
              "<table border=\"1\" class=\"dataframe\">\n",
              "  <thead>\n",
              "    <tr style=\"text-align: right;\">\n",
              "      <th></th>\n",
              "      <th>length</th>\n",
              "    </tr>\n",
              "    <tr>\n",
              "      <th>artist</th>\n",
              "      <th></th>\n",
              "    </tr>\n",
              "  </thead>\n",
              "  <tbody>\n",
              "    <tr>\n",
              "      <th>Artist 1</th>\n",
              "      <td>Axes(0.125,0.11;0.775x0.77)</td>\n",
              "    </tr>\n",
              "    <tr>\n",
              "      <th>Artist 2</th>\n",
              "      <td>Axes(0.125,0.11;0.775x0.77)</td>\n",
              "    </tr>\n",
              "  </tbody>\n",
              "</table>\n",
              "</div><br><label><b>dtype:</b> object</label>"
            ]
          },
          "metadata": {},
          "execution_count": 25
        },
        {
          "output_type": "display_data",
          "data": {
            "text/plain": [
              "<Figure size 640x480 with 1 Axes>"
            ],
            "image/png": "[encoded data removed]"
          },
          "metadata": {}
        }
      ],
      "source": [
        "num_replicates = 1000\n",
        "\n",
        "df = pd.DataFrame({\n",
        "    \"artist\" : ['Artist 1'] * num_replicates + ['Artist 2']*num_replicates,\n",
        "    \"length\" : np.concatenate((np.random.poisson(125,num_replicates),np.random.poisson(150,num_replicates)))\n",
        "})\n",
        "\n",
        "df.groupby('artist')['length'].plot(kind=\"hist\",density=True,alpha=0.5,legend=True)"
      ]
    },
    {
      "cell_type": "markdown",
      "id": "8fde9ebb",
      "metadata": {
        "id": "8fde9ebb"
      },
      "source": [
        "Since the lyrics may be stored with carriage returns or tabs, it may be useful to have a function that can collapse whitespace, using regular expressions, and be used for splitting.\n",
        "\n",
        "Q: What does the regular expression `'\\s+'` match on?\n",
        "\n",
        "A: The regular expression \\s+ matches one or more whitespace characters.\n"
      ]
    },
    {
      "cell_type": "code",
      "execution_count": null,
      "id": "f0e34516",
      "metadata": {
        "id": "f0e34516"
      },
      "outputs": [],
      "source": [
        "collapse_whitespace = re.compile(r'\\s+')\n",
        "\n",
        "def tokenize_lyrics(lyric) :\n",
        "    \"\"\"strip and split on whitespace\"\"\"\n",
        "    return([item.lower() for item in collapse_whitespace.split(lyric)])"
      ]
    },
    {
      "cell_type": "code",
      "execution_count": null,
      "id": "2294c440",
      "metadata": {
        "colab": {
          "base_uri": "https://localhost:8080/",
          "height": 564
        },
        "id": "2294c440",
        "outputId": "e125b2da-2c37-4967-8b6a-bb93b4bd777a"
      },
      "outputs": [
        {
          "output_type": "display_data",
          "data": {
            "text/plain": [
              "<Figure size 1000x600 with 1 Axes>"
            ],
            "image/png": "[encoded data removed]"
          },
          "metadata": {}
        }
      ],
      "source": [
        "# Your lyric length comparison chart here.\n",
        "# Simulate cleaned_lyrics dictionary if not already defined\n",
        "try:\n",
        "    cleaned_lyrics\n",
        "except NameError:\n",
        "    cleaned_lyrics = defaultdict(dict)\n",
        "\n",
        "# Build the DataFrame with song lengths per artist\n",
        "data = {\n",
        "    \"artist\": [],\n",
        "    \"length\": []\n",
        "}\n",
        "\n",
        "for artist, songs in cleaned_lyrics.items():\n",
        "    for song, tokens in songs.items():\n",
        "        data[\"artist\"].append(artist)\n",
        "        data[\"length\"].append(len(tokens))\n",
        "\n",
        "df_lengths = pd.DataFrame(data)\n",
        "\n",
        "# Plot the histogram\n",
        "import matplotlib.pyplot as plt\n",
        "\n",
        "plt.figure(figsize=(10, 6))\n",
        "for artist, group in df_lengths.groupby(\"artist\"):\n",
        "    group[\"length\"].plot(kind=\"hist\", bins=20, density=True, alpha=0.5, legend=True, label=artist)\n",
        "\n",
        "plt.title(\"Histogram of Song Lengths by Artist\")\n",
        "plt.xlabel(\"Number of Tokens\")\n",
        "plt.ylabel(\"Density\")\n",
        "plt.grid(True)\n",
        "plt.legend()\n",
        "plt.show()"
      ]
    }
  ],
  "metadata": {
    "kernelspec": {
      "display_name": "Python 3 (ipykernel)",
      "language": "python",
      "name": "python3"
    },
    "language_info": {
      "codemirror_mode": {
        "name": "ipython",
        "version": 3
      },
      "file_extension": ".py",
      "mimetype": "text/x-python",
      "name": "python",
      "nbconvert_exporter": "python",
      "pygments_lexer": "ipython3",
      "version": "3.8.8"
    },
    "colab": {
      "provenance": []
    }
  },
  "nbformat": 4,
  "nbformat_minor": 5
}